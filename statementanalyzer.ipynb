{
 "cells": [
  {
   "cell_type": "code",
   "execution_count": 1,
   "metadata": {},
   "outputs": [],
   "source": [
    "import pandas as pd\n",
    "import numpy as np"
   ]
  },
  {
   "cell_type": "code",
   "execution_count": 2,
   "metadata": {},
   "outputs": [
    {
     "data": {
      "text/html": [
       "<div>\n",
       "<style scoped>\n",
       "    .dataframe tbody tr th:only-of-type {\n",
       "        vertical-align: middle;\n",
       "    }\n",
       "\n",
       "    .dataframe tbody tr th {\n",
       "        vertical-align: top;\n",
       "    }\n",
       "\n",
       "    .dataframe thead th {\n",
       "        text-align: right;\n",
       "    }\n",
       "</style>\n",
       "<table border=\"1\" class=\"dataframe\">\n",
       "  <thead>\n",
       "    <tr style=\"text-align: right;\">\n",
       "      <th></th>\n",
       "      <th>TRANSACTION DATE,PARTICULARS,WITHDRAWAL AMT,DEPOSIT AMT,BALANCE AMT</th>\n",
       "    </tr>\n",
       "  </thead>\n",
       "  <tbody>\n",
       "    <tr>\n",
       "      <th>0</th>\n",
       "      <td>1/1/2019,POS 541919XXXXXX4335 ASTER MEDICITY P...</td>\n",
       "    </tr>\n",
       "    <tr>\n",
       "      <th>1</th>\n",
       "      <td>1/1/2019,POS 541919XXXXXX4335 WESTSIDE POS DEB...</td>\n",
       "    </tr>\n",
       "    <tr>\n",
       "      <th>2</th>\n",
       "      <td>1/1/2019,POS 541919XXXXXX4335 EASY DAY POS DEB...</td>\n",
       "    </tr>\n",
       "    <tr>\n",
       "      <th>3</th>\n",
       "      <td>2/1/2019,20190102032039502112/PAYTMWALLETLOADI...</td>\n",
       "    </tr>\n",
       "    <tr>\n",
       "      <th>4</th>\n",
       "      <td>2/1/2019,50100034192891-TPT-RENT ,11838,,41690...</td>\n",
       "    </tr>\n",
       "    <tr>\n",
       "      <th>5</th>\n",
       "      <td>2/1/2019,PHDF7063992589/BILLDKACTTV ,1249.62,,...</td>\n",
       "    </tr>\n",
       "    <tr>\n",
       "      <th>6</th>\n",
       "      <td>3/1/2019,POS 541919XXXXXX4335 ASHWIN PHARMA PO...</td>\n",
       "    </tr>\n",
       "    <tr>\n",
       "      <th>7</th>\n",
       "      <td>3/1/2019,50400124720680- RD INSTALLMENT-JAN 20...</td>\n",
       "    </tr>\n",
       "    <tr>\n",
       "      <th>8</th>\n",
       "      <td>3/1/2019,UPI-50100121158115-SHAMIM.MOKLES@OKHD...</td>\n",
       "    </tr>\n",
       "    <tr>\n",
       "      <th>9</th>\n",
       "      <td>4/1/2019,POS 541919XXXXXX4335 ITUNES.COM/BILLP...</td>\n",
       "    </tr>\n",
       "  </tbody>\n",
       "</table>\n",
       "</div>"
      ],
      "text/plain": [
       "  TRANSACTION DATE,PARTICULARS,WITHDRAWAL AMT,DEPOSIT AMT,BALANCE AMT\n",
       "0  1/1/2019,POS 541919XXXXXX4335 ASTER MEDICITY P...                 \n",
       "1  1/1/2019,POS 541919XXXXXX4335 WESTSIDE POS DEB...                 \n",
       "2  1/1/2019,POS 541919XXXXXX4335 EASY DAY POS DEB...                 \n",
       "3  2/1/2019,20190102032039502112/PAYTMWALLETLOADI...                 \n",
       "4  2/1/2019,50100034192891-TPT-RENT ,11838,,41690...                 \n",
       "5  2/1/2019,PHDF7063992589/BILLDKACTTV ,1249.62,,...                 \n",
       "6  3/1/2019,POS 541919XXXXXX4335 ASHWIN PHARMA PO...                 \n",
       "7  3/1/2019,50400124720680- RD INSTALLMENT-JAN 20...                 \n",
       "8  3/1/2019,UPI-50100121158115-SHAMIM.MOKLES@OKHD...                 \n",
       "9  4/1/2019,POS 541919XXXXXX4335 ITUNES.COM/BILLP...                 "
      ]
     },
     "execution_count": 2,
     "metadata": {},
     "output_type": "execute_result"
    }
   ],
   "source": [
    "data  = pd.read_csv('/Users/onyekachukwuojumah/Desktop/projects/HDFC-COMMON-CLEAN-V1.csv')\n",
    "data.head(10)"
   ]
  },
  {
   "cell_type": "code",
   "execution_count": 3,
   "metadata": {},
   "outputs": [],
   "source": [
    "\n",
    "df = data['TRANSACTION DATE,PARTICULARS,WITHDRAWAL AMT,DEPOSIT AMT,BALANCE AMT'].str.split(',', expand=True)"
   ]
  },
  {
   "cell_type": "code",
   "execution_count": 4,
   "metadata": {},
   "outputs": [
    {
     "data": {
      "text/html": [
       "<div>\n",
       "<style scoped>\n",
       "    .dataframe tbody tr th:only-of-type {\n",
       "        vertical-align: middle;\n",
       "    }\n",
       "\n",
       "    .dataframe tbody tr th {\n",
       "        vertical-align: top;\n",
       "    }\n",
       "\n",
       "    .dataframe thead th {\n",
       "        text-align: right;\n",
       "    }\n",
       "</style>\n",
       "<table border=\"1\" class=\"dataframe\">\n",
       "  <thead>\n",
       "    <tr style=\"text-align: right;\">\n",
       "      <th></th>\n",
       "      <th>0</th>\n",
       "      <th>1</th>\n",
       "      <th>2</th>\n",
       "      <th>3</th>\n",
       "      <th>4</th>\n",
       "    </tr>\n",
       "  </thead>\n",
       "  <tbody>\n",
       "    <tr>\n",
       "      <th>0</th>\n",
       "      <td>1/1/2019</td>\n",
       "      <td>POS 541919XXXXXX4335 ASTER MEDICITY POS DEBIT</td>\n",
       "      <td>700</td>\n",
       "      <td></td>\n",
       "      <td>438245.77</td>\n",
       "    </tr>\n",
       "    <tr>\n",
       "      <th>1</th>\n",
       "      <td>1/1/2019</td>\n",
       "      <td>POS 541919XXXXXX4335 WESTSIDE POS DEBIT</td>\n",
       "      <td>7291</td>\n",
       "      <td></td>\n",
       "      <td>430954.77</td>\n",
       "    </tr>\n",
       "    <tr>\n",
       "      <th>2</th>\n",
       "      <td>1/1/2019</td>\n",
       "      <td>POS 541919XXXXXX4335 EASY DAY POS DEBIT</td>\n",
       "      <td>208</td>\n",
       "      <td></td>\n",
       "      <td>430746.77</td>\n",
       "    </tr>\n",
       "    <tr>\n",
       "      <th>3</th>\n",
       "      <td>2/1/2019</td>\n",
       "      <td>20190102032039502112/PAYTMWALLETLOADING</td>\n",
       "      <td>2000</td>\n",
       "      <td></td>\n",
       "      <td>428746.77</td>\n",
       "    </tr>\n",
       "    <tr>\n",
       "      <th>4</th>\n",
       "      <td>2/1/2019</td>\n",
       "      <td>50100034192891-TPT-RENT</td>\n",
       "      <td>11838</td>\n",
       "      <td></td>\n",
       "      <td>416908.77</td>\n",
       "    </tr>\n",
       "  </tbody>\n",
       "</table>\n",
       "</div>"
      ],
      "text/plain": [
       "          0                                               1      2 3  \\\n",
       "0  1/1/2019  POS 541919XXXXXX4335 ASTER MEDICITY POS DEBIT     700     \n",
       "1  1/1/2019        POS 541919XXXXXX4335 WESTSIDE POS DEBIT    7291     \n",
       "2  1/1/2019        POS 541919XXXXXX4335 EASY DAY POS DEBIT     208     \n",
       "3  2/1/2019        20190102032039502112/PAYTMWALLETLOADING    2000     \n",
       "4  2/1/2019                        50100034192891-TPT-RENT   11838     \n",
       "\n",
       "           4  \n",
       "0  438245.77  \n",
       "1  430954.77  \n",
       "2  430746.77  \n",
       "3  428746.77  \n",
       "4  416908.77  "
      ]
     },
     "execution_count": 4,
     "metadata": {},
     "output_type": "execute_result"
    }
   ],
   "source": [
    "df.head()"
   ]
  },
  {
   "cell_type": "code",
   "execution_count": 5,
   "metadata": {},
   "outputs": [],
   "source": [
    "df['TRANSACTION DATE'] = df[0]\n",
    "df['PARTICULARS'] = df[1]\n",
    "df['WITHDRAWAL AMT'] = df[2]\n",
    "df['DEPOSIT AMT'] = df[3]\n",
    "df['BALANCE AMT'] = df[4]"
   ]
  },
  {
   "cell_type": "code",
   "execution_count": 6,
   "metadata": {},
   "outputs": [],
   "source": [
    "df = df.drop([0,1,2,3,4], axis=1)"
   ]
  },
  {
   "cell_type": "code",
   "execution_count": 7,
   "metadata": {},
   "outputs": [
    {
     "data": {
      "text/html": [
       "<div>\n",
       "<style scoped>\n",
       "    .dataframe tbody tr th:only-of-type {\n",
       "        vertical-align: middle;\n",
       "    }\n",
       "\n",
       "    .dataframe tbody tr th {\n",
       "        vertical-align: top;\n",
       "    }\n",
       "\n",
       "    .dataframe thead th {\n",
       "        text-align: right;\n",
       "    }\n",
       "</style>\n",
       "<table border=\"1\" class=\"dataframe\">\n",
       "  <thead>\n",
       "    <tr style=\"text-align: right;\">\n",
       "      <th></th>\n",
       "      <th>TRANSACTION DATE</th>\n",
       "      <th>PARTICULARS</th>\n",
       "      <th>WITHDRAWAL AMT</th>\n",
       "      <th>DEPOSIT AMT</th>\n",
       "      <th>BALANCE AMT</th>\n",
       "    </tr>\n",
       "  </thead>\n",
       "  <tbody>\n",
       "    <tr>\n",
       "      <th>0</th>\n",
       "      <td>1/1/2019</td>\n",
       "      <td>POS 541919XXXXXX4335 ASTER MEDICITY POS DEBIT</td>\n",
       "      <td>700</td>\n",
       "      <td></td>\n",
       "      <td>438245.77</td>\n",
       "    </tr>\n",
       "    <tr>\n",
       "      <th>1</th>\n",
       "      <td>1/1/2019</td>\n",
       "      <td>POS 541919XXXXXX4335 WESTSIDE POS DEBIT</td>\n",
       "      <td>7291</td>\n",
       "      <td></td>\n",
       "      <td>430954.77</td>\n",
       "    </tr>\n",
       "    <tr>\n",
       "      <th>2</th>\n",
       "      <td>1/1/2019</td>\n",
       "      <td>POS 541919XXXXXX4335 EASY DAY POS DEBIT</td>\n",
       "      <td>208</td>\n",
       "      <td></td>\n",
       "      <td>430746.77</td>\n",
       "    </tr>\n",
       "    <tr>\n",
       "      <th>3</th>\n",
       "      <td>2/1/2019</td>\n",
       "      <td>20190102032039502112/PAYTMWALLETLOADING</td>\n",
       "      <td>2000</td>\n",
       "      <td></td>\n",
       "      <td>428746.77</td>\n",
       "    </tr>\n",
       "    <tr>\n",
       "      <th>4</th>\n",
       "      <td>2/1/2019</td>\n",
       "      <td>50100034192891-TPT-RENT</td>\n",
       "      <td>11838</td>\n",
       "      <td></td>\n",
       "      <td>416908.77</td>\n",
       "    </tr>\n",
       "    <tr>\n",
       "      <th>...</th>\n",
       "      <td>...</td>\n",
       "      <td>...</td>\n",
       "      <td>...</td>\n",
       "      <td>...</td>\n",
       "      <td>...</td>\n",
       "    </tr>\n",
       "    <tr>\n",
       "      <th>95</th>\n",
       "      <td>15/02/19</td>\n",
       "      <td>MONTHLY INTEREST CREDIT 50300306138000</td>\n",
       "      <td></td>\n",
       "      <td>245</td>\n",
       "      <td>359334.02</td>\n",
       "    </tr>\n",
       "    <tr>\n",
       "      <th>96</th>\n",
       "      <td>15/02/19</td>\n",
       "      <td>POS 541919XXXXXX4335 ITUNES.COM/BILI POS DEBIT</td>\n",
       "      <td>3099</td>\n",
       "      <td></td>\n",
       "      <td>356235.02</td>\n",
       "    </tr>\n",
       "    <tr>\n",
       "      <th>97</th>\n",
       "      <td>15/02/19</td>\n",
       "      <td>20190215105839821857/PAYTMOYOROOMSCOM</td>\n",
       "      <td>4824</td>\n",
       "      <td></td>\n",
       "      <td>351411.02</td>\n",
       "    </tr>\n",
       "    <tr>\n",
       "      <th>98</th>\n",
       "      <td>16/02/19</td>\n",
       "      <td>POS 541919XXXXXX4335 M/S SUGAR RUSH V PO S DEBIT</td>\n",
       "      <td>140</td>\n",
       "      <td></td>\n",
       "      <td>349341.02</td>\n",
       "    </tr>\n",
       "    <tr>\n",
       "      <th>99</th>\n",
       "      <td>17/02/19</td>\n",
       "      <td>IMPS-904811141976-V ARUN KUMAR REDDY-ICI C-XXX...</td>\n",
       "      <td>55000</td>\n",
       "      <td></td>\n",
       "      <td>294341.02</td>\n",
       "    </tr>\n",
       "  </tbody>\n",
       "</table>\n",
       "<p>100 rows × 5 columns</p>\n",
       "</div>"
      ],
      "text/plain": [
       "   TRANSACTION DATE                                        PARTICULARS  \\\n",
       "0          1/1/2019     POS 541919XXXXXX4335 ASTER MEDICITY POS DEBIT    \n",
       "1          1/1/2019           POS 541919XXXXXX4335 WESTSIDE POS DEBIT    \n",
       "2          1/1/2019           POS 541919XXXXXX4335 EASY DAY POS DEBIT    \n",
       "3          2/1/2019           20190102032039502112/PAYTMWALLETLOADING    \n",
       "4          2/1/2019                           50100034192891-TPT-RENT    \n",
       "..              ...                                                ...   \n",
       "95        15/02/19             MONTHLY INTEREST CREDIT 50300306138000    \n",
       "96        15/02/19     POS 541919XXXXXX4335 ITUNES.COM/BILI POS DEBIT    \n",
       "97        15/02/19              20190215105839821857/PAYTMOYOROOMSCOM    \n",
       "98        16/02/19   POS 541919XXXXXX4335 M/S SUGAR RUSH V PO S DEBIT    \n",
       "99        17/02/19   IMPS-904811141976-V ARUN KUMAR REDDY-ICI C-XXX...   \n",
       "\n",
       "   WITHDRAWAL AMT DEPOSIT AMT BALANCE AMT  \n",
       "0             700               438245.77  \n",
       "1            7291               430954.77  \n",
       "2             208               430746.77  \n",
       "3            2000               428746.77  \n",
       "4           11838               416908.77  \n",
       "..            ...         ...         ...  \n",
       "95                        245   359334.02  \n",
       "96           3099               356235.02  \n",
       "97           4824               351411.02  \n",
       "98            140               349341.02  \n",
       "99          55000               294341.02  \n",
       "\n",
       "[100 rows x 5 columns]"
      ]
     },
     "execution_count": 7,
     "metadata": {},
     "output_type": "execute_result"
    }
   ],
   "source": [
    "df.head(100)"
   ]
  },
  {
   "cell_type": "code",
   "execution_count": 8,
   "metadata": {},
   "outputs": [
    {
     "data": {
      "text/html": [
       "<div>\n",
       "<style scoped>\n",
       "    .dataframe tbody tr th:only-of-type {\n",
       "        vertical-align: middle;\n",
       "    }\n",
       "\n",
       "    .dataframe tbody tr th {\n",
       "        vertical-align: top;\n",
       "    }\n",
       "\n",
       "    .dataframe thead th {\n",
       "        text-align: right;\n",
       "    }\n",
       "</style>\n",
       "<table border=\"1\" class=\"dataframe\">\n",
       "  <thead>\n",
       "    <tr style=\"text-align: right;\">\n",
       "      <th></th>\n",
       "      <th>Category</th>\n",
       "      <th>Keywords</th>\n",
       "    </tr>\n",
       "  </thead>\n",
       "  <tbody>\n",
       "    <tr>\n",
       "      <th>0</th>\n",
       "      <td>Miscellaneous</td>\n",
       "      <td>rety</td>\n",
       "    </tr>\n",
       "    <tr>\n",
       "      <th>1</th>\n",
       "      <td>Transport</td>\n",
       "      <td>AUTO</td>\n",
       "    </tr>\n",
       "    <tr>\n",
       "      <th>2</th>\n",
       "      <td>Entertainment</td>\n",
       "      <td>TUNES</td>\n",
       "    </tr>\n",
       "    <tr>\n",
       "      <th>3</th>\n",
       "      <td>Entertainment</td>\n",
       "      <td>ITUNES</td>\n",
       "    </tr>\n",
       "    <tr>\n",
       "      <th>4</th>\n",
       "      <td>Entertainment</td>\n",
       "      <td>netflix</td>\n",
       "    </tr>\n",
       "  </tbody>\n",
       "</table>\n",
       "</div>"
      ],
      "text/plain": [
       "        Category Keywords\n",
       "0  Miscellaneous     rety\n",
       "1      Transport     AUTO\n",
       "2  Entertainment    TUNES\n",
       "3  Entertainment   ITUNES\n",
       "4  Entertainment  netflix"
      ]
     },
     "execution_count": 8,
     "metadata": {},
     "output_type": "execute_result"
    }
   ],
   "source": [
    "category = pd.read_csv('Category.csv')\n",
    "\n",
    "category.head()"
   ]
  },
  {
   "cell_type": "code",
   "execution_count": 9,
   "metadata": {},
   "outputs": [
    {
     "data": {
      "text/plain": [
       "38"
      ]
     },
     "execution_count": 9,
     "metadata": {},
     "output_type": "execute_result"
    }
   ],
   "source": [
    "len(category)"
   ]
  },
  {
   "cell_type": "code",
   "execution_count": 10,
   "metadata": {},
   "outputs": [],
   "source": [
    "df.columns = [x.strip().lower() for x in df.columns]\n",
    "category.columns = [x.strip().lower() for x in category.columns]"
   ]
  },
  {
   "cell_type": "code",
   "execution_count": 11,
   "metadata": {},
   "outputs": [],
   "source": [
    "# CHANGING TO LOWER CASE\n",
    "df['particulars'] = df['particulars'].str.lower()\n",
    "category['keywords'] = category['keywords'].str.lower()"
   ]
  },
  {
   "cell_type": "code",
   "execution_count": 12,
   "metadata": {},
   "outputs": [],
   "source": [
    "def only_alnum(df, col):\n",
    "    df[col] = df[col].replace(r'[^A-Za-z0-9]+', ' ', regex=True)\n",
    "\n",
    "only_alnum(df, 'particulars')\n"
   ]
  },
  {
   "cell_type": "code",
   "execution_count": 13,
   "metadata": {},
   "outputs": [
    {
     "data": {
      "text/html": [
       "<div>\n",
       "<style scoped>\n",
       "    .dataframe tbody tr th:only-of-type {\n",
       "        vertical-align: middle;\n",
       "    }\n",
       "\n",
       "    .dataframe tbody tr th {\n",
       "        vertical-align: top;\n",
       "    }\n",
       "\n",
       "    .dataframe thead th {\n",
       "        text-align: right;\n",
       "    }\n",
       "</style>\n",
       "<table border=\"1\" class=\"dataframe\">\n",
       "  <thead>\n",
       "    <tr style=\"text-align: right;\">\n",
       "      <th></th>\n",
       "      <th>transaction date</th>\n",
       "      <th>particulars</th>\n",
       "      <th>withdrawal amt</th>\n",
       "      <th>deposit amt</th>\n",
       "      <th>balance amt</th>\n",
       "    </tr>\n",
       "  </thead>\n",
       "  <tbody>\n",
       "    <tr>\n",
       "      <th>0</th>\n",
       "      <td>1/1/2019</td>\n",
       "      <td>pos 541919xxxxxx4335 aster medicity pos debit</td>\n",
       "      <td>700</td>\n",
       "      <td></td>\n",
       "      <td>438245.77</td>\n",
       "    </tr>\n",
       "    <tr>\n",
       "      <th>1</th>\n",
       "      <td>1/1/2019</td>\n",
       "      <td>pos 541919xxxxxx4335 westside pos debit</td>\n",
       "      <td>7291</td>\n",
       "      <td></td>\n",
       "      <td>430954.77</td>\n",
       "    </tr>\n",
       "    <tr>\n",
       "      <th>2</th>\n",
       "      <td>1/1/2019</td>\n",
       "      <td>pos 541919xxxxxx4335 easy day pos debit</td>\n",
       "      <td>208</td>\n",
       "      <td></td>\n",
       "      <td>430746.77</td>\n",
       "    </tr>\n",
       "    <tr>\n",
       "      <th>3</th>\n",
       "      <td>2/1/2019</td>\n",
       "      <td>20190102032039502112 paytmwalletloading</td>\n",
       "      <td>2000</td>\n",
       "      <td></td>\n",
       "      <td>428746.77</td>\n",
       "    </tr>\n",
       "    <tr>\n",
       "      <th>4</th>\n",
       "      <td>2/1/2019</td>\n",
       "      <td>50100034192891 tpt rent</td>\n",
       "      <td>11838</td>\n",
       "      <td></td>\n",
       "      <td>416908.77</td>\n",
       "    </tr>\n",
       "  </tbody>\n",
       "</table>\n",
       "</div>"
      ],
      "text/plain": [
       "  transaction date                                     particulars  \\\n",
       "0         1/1/2019  pos 541919xxxxxx4335 aster medicity pos debit    \n",
       "1         1/1/2019        pos 541919xxxxxx4335 westside pos debit    \n",
       "2         1/1/2019        pos 541919xxxxxx4335 easy day pos debit    \n",
       "3         2/1/2019        20190102032039502112 paytmwalletloading    \n",
       "4         2/1/2019                        50100034192891 tpt rent    \n",
       "\n",
       "  withdrawal amt deposit amt balance amt  \n",
       "0            700               438245.77  \n",
       "1           7291               430954.77  \n",
       "2            208               430746.77  \n",
       "3           2000               428746.77  \n",
       "4          11838               416908.77  "
      ]
     },
     "execution_count": 13,
     "metadata": {},
     "output_type": "execute_result"
    }
   ],
   "source": [
    "df.head()"
   ]
  },
  {
   "cell_type": "code",
   "execution_count": 14,
   "metadata": {},
   "outputs": [
    {
     "data": {
      "text/plain": [
       "'rety'"
      ]
     },
     "execution_count": 14,
     "metadata": {},
     "output_type": "execute_result"
    }
   ],
   "source": [
    "category['keywords'][0]"
   ]
  },
  {
   "cell_type": "code",
   "execution_count": 15,
   "metadata": {},
   "outputs": [
    {
     "data": {
      "text/plain": [
       "'pos 541919xxxxxx4335 aster medicity pos debit '"
      ]
     },
     "execution_count": 15,
     "metadata": {},
     "output_type": "execute_result"
    }
   ],
   "source": [
    "df['particulars'][0]"
   ]
  },
  {
   "cell_type": "code",
   "execution_count": 16,
   "metadata": {},
   "outputs": [],
   "source": [
    "keyword_found_main = []\n",
    "for i in range(len(df)):\n",
    "    keyword_found_sub = []\n",
    "    for j in range(len(category)):\n",
    "        if category['keywords'][j] in df['particulars'][i].split():\n",
    "            keyword_found_sub.append(category['category'][j])\n",
    "        else:\n",
    "            keyword_found_sub.append('not found')\n",
    "    keyword_found_sub = list(set(keyword_found_sub)) #to remove duplicates \n",
    "    keyword_found_sub = [keyword_found_sub[k] for k in range(len(keyword_found_sub)) if keyword_found_sub[k] != 'not found'] #if the keyword is not equal to found, pick it \n",
    "    keyword_found_main.append(keyword_found_sub[0] if keyword_found_sub else 'not found')#if more than one category is found, then pick the first one\n",
    "df['category'] = keyword_found_main"
   ]
  },
  {
   "cell_type": "code",
   "execution_count": 17,
   "metadata": {},
   "outputs": [
    {
     "data": {
      "text/html": [
       "<div>\n",
       "<style scoped>\n",
       "    .dataframe tbody tr th:only-of-type {\n",
       "        vertical-align: middle;\n",
       "    }\n",
       "\n",
       "    .dataframe tbody tr th {\n",
       "        vertical-align: top;\n",
       "    }\n",
       "\n",
       "    .dataframe thead th {\n",
       "        text-align: right;\n",
       "    }\n",
       "</style>\n",
       "<table border=\"1\" class=\"dataframe\">\n",
       "  <thead>\n",
       "    <tr style=\"text-align: right;\">\n",
       "      <th></th>\n",
       "      <th>transaction date</th>\n",
       "      <th>particulars</th>\n",
       "      <th>withdrawal amt</th>\n",
       "      <th>deposit amt</th>\n",
       "      <th>balance amt</th>\n",
       "      <th>category</th>\n",
       "    </tr>\n",
       "  </thead>\n",
       "  <tbody>\n",
       "    <tr>\n",
       "      <th>0</th>\n",
       "      <td>1/1/2019</td>\n",
       "      <td>pos 541919xxxxxx4335 aster medicity pos debit</td>\n",
       "      <td>700</td>\n",
       "      <td></td>\n",
       "      <td>438245.77</td>\n",
       "      <td>Health</td>\n",
       "    </tr>\n",
       "    <tr>\n",
       "      <th>1</th>\n",
       "      <td>1/1/2019</td>\n",
       "      <td>pos 541919xxxxxx4335 westside pos debit</td>\n",
       "      <td>7291</td>\n",
       "      <td></td>\n",
       "      <td>430954.77</td>\n",
       "      <td>Shopping</td>\n",
       "    </tr>\n",
       "    <tr>\n",
       "      <th>2</th>\n",
       "      <td>1/1/2019</td>\n",
       "      <td>pos 541919xxxxxx4335 easy day pos debit</td>\n",
       "      <td>208</td>\n",
       "      <td></td>\n",
       "      <td>430746.77</td>\n",
       "      <td>Shopping</td>\n",
       "    </tr>\n",
       "    <tr>\n",
       "      <th>3</th>\n",
       "      <td>2/1/2019</td>\n",
       "      <td>20190102032039502112 paytmwalletloading</td>\n",
       "      <td>2000</td>\n",
       "      <td></td>\n",
       "      <td>428746.77</td>\n",
       "      <td>not found</td>\n",
       "    </tr>\n",
       "    <tr>\n",
       "      <th>4</th>\n",
       "      <td>2/1/2019</td>\n",
       "      <td>50100034192891 tpt rent</td>\n",
       "      <td>11838</td>\n",
       "      <td></td>\n",
       "      <td>416908.77</td>\n",
       "      <td>Housing</td>\n",
       "    </tr>\n",
       "  </tbody>\n",
       "</table>\n",
       "</div>"
      ],
      "text/plain": [
       "  transaction date                                     particulars  \\\n",
       "0         1/1/2019  pos 541919xxxxxx4335 aster medicity pos debit    \n",
       "1         1/1/2019        pos 541919xxxxxx4335 westside pos debit    \n",
       "2         1/1/2019        pos 541919xxxxxx4335 easy day pos debit    \n",
       "3         2/1/2019        20190102032039502112 paytmwalletloading    \n",
       "4         2/1/2019                        50100034192891 tpt rent    \n",
       "\n",
       "  withdrawal amt deposit amt balance amt   category  \n",
       "0            700               438245.77     Health  \n",
       "1           7291               430954.77   Shopping  \n",
       "2            208               430746.77   Shopping  \n",
       "3           2000               428746.77  not found  \n",
       "4          11838               416908.77    Housing  "
      ]
     },
     "execution_count": 17,
     "metadata": {},
     "output_type": "execute_result"
    }
   ],
   "source": [
    "df.head()"
   ]
  },
  {
   "cell_type": "code",
   "execution_count": 18,
   "metadata": {},
   "outputs": [],
   "source": [
    "import os  \n",
    "os.makedirs('folder/subfolder', exist_ok=True)  \n",
    "df.to_csv('/Users/onyekachukwuojumah/Desktop/projects/DATA.csv')  "
   ]
  }
 ],
 "metadata": {
  "kernelspec": {
   "display_name": "Python 3.7.13 ('Mlops_enviroment')",
   "language": "python",
   "name": "python3"
  },
  "language_info": {
   "codemirror_mode": {
    "name": "ipython",
    "version": 3
   },
   "file_extension": ".py",
   "mimetype": "text/x-python",
   "name": "python",
   "nbconvert_exporter": "python",
   "pygments_lexer": "ipython3",
   "version": "3.7.13"
  },
  "orig_nbformat": 4,
  "vscode": {
   "interpreter": {
    "hash": "45145d67450622fd20d9e36f88030e1f531d5692d003624bc3f03c498bb70ef3"
   }
  }
 },
 "nbformat": 4,
 "nbformat_minor": 2
}
